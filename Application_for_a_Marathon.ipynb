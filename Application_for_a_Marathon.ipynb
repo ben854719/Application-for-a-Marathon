{
  "nbformat": 4,
  "nbformat_minor": 0,
  "metadata": {
    "colab": {
      "provenance": [],
      "cell_execution_strategy": "setup",
      "authorship_tag": "ABX9TyNfcXrj0VQorrKq6KiC/IHe",
      "include_colab_link": true
    },
    "kernelspec": {
      "name": "python3",
      "display_name": "Python 3"
    },
    "language_info": {
      "name": "python"
    }
  },
  "cells": [
    {
      "cell_type": "markdown",
      "metadata": {
        "id": "view-in-github",
        "colab_type": "text"
      },
      "source": [
        "<a href=\"https://colab.research.google.com/github/ben854719/Application-for-a-Marathon/blob/main/Application_for_a_Marathon.ipynb\" target=\"_parent\"><img src=\"https://colab.research.google.com/assets/colab-badge.svg\" alt=\"Open In Colab\"/></a>"
      ]
    },
    {
      "source": [
        "%%javascript\n",
        "\n",
        "// Add jQuery to your Colab notebook\n",
        "\n",
        "const script = document.createElement('script');\n",
        "script.src = 'https://code.jquery.com/jquery-3.6.0.min.js';\n",
        "document.head.appendChild(script);\n",
        "\n",
        "// Test if jQuery is loaded\n",
        "$(document).ready(function() {\n",
        "  console.log('jQuery is loaded!');\n",
        "});"
      ],
      "cell_type": "code",
      "metadata": {
        "colab": {
          "base_uri": "https://localhost:8080/",
          "height": 17
        },
        "collapsed": true,
        "id": "SxHfvaAtYCzP",
        "outputId": "72adc12a-0c78-4e86-f7ae-2624ee818d51"
      },
      "execution_count": 12,
      "outputs": [
        {
          "output_type": "display_data",
          "data": {
            "text/plain": [
              "<IPython.core.display.Javascript object>"
            ],
            "application/javascript": [
              "// Add jQuery to your Colab notebook\n",
              "const script = document.createElement('script');\n",
              "script.src = 'https://code.jquery.com/jquery-3.6.0.min.js'; \n",
              "document.head.appendChild(script);\n",
              "\n",
              "// Test if jQuery is loaded\n",
              "$(document).ready(function() {\n",
              "  console.log('jQuery is loaded!');\n",
              "});\n"
            ]
          },
          "metadata": {}
        }
      ]
    },
    {
      "source": [
        "%%javascript\n",
        "\n",
        "//create the age of the participants and the start time of the race.\n",
        "\n",
        "let raceNumber = Math.Floor(Math.random() * 1000);\n",
        "let early = true;\n",
        "let age = 19;\n",
        "\n",
        "if(early && age > 18){\n",
        "  raceNumber += 1000;\n",
        "}\n",
        "\n",
        "if(early && age > 18) {\n",
        "  console.log(`Race will begin at 11:00 AM; your race number is: ${raceNumber}.`);\n",
        "} else if(!early && age > 18) {\n",
        "  console.log(`Race will begin at 12:30 PM; your race number is: ${raceNumber}.`);\n",
        "} else if(early && age < 18) {\n",
        "  console.log(`Race will begin at 9:30 AM; your race number is: ${raceNumber}.`);\n",
        "} else {\n",
        "  console.log(`Please see the registration desk.`);\n",
        "}"
      ],
      "cell_type": "code",
      "metadata": {
        "colab": {
          "base_uri": "https://localhost:8080/",
          "height": 17
        },
        "collapsed": true,
        "id": "L46sa1kNXBjh",
        "outputId": "e83148ed-efdc-4e9b-d3dc-09ef82bd0956"
      },
      "execution_count": 14,
      "outputs": [
        {
          "output_type": "display_data",
          "data": {
            "text/plain": [
              "<IPython.core.display.Javascript object>"
            ],
            "application/javascript": [
              "\n",
              "//create the age of the participants and the start time of the race.\n",
              "\n",
              "let raceNumber = Math.Floor(Math.random() * 1000);\n",
              "let early = true;\n",
              "let age = 19;\n",
              "\n",
              "if(early && age > 18){\n",
              "  raceNumber += 1000;\n",
              "}\n",
              "\n",
              "if(early && age > 18) {\n",
              "  console.log(`Race will begin at 11:00 AM; your race number is: ${raceNumber}.`);\n",
              "} else if(!early && age > 18) {\n",
              "  console.log(`Race will begin at 12:30 PM; your race number is: ${raceNumber}.`);\n",
              "} else if(early && age < 18) {\n",
              "  console.log(`Race will begin at 9:30 AM; your race number is: ${raceNumber}.`);\n",
              "} else {\n",
              "  console.log(`Please see the registration desk.`);\n",
              "}\n"
            ]
          },
          "metadata": {}
        }
      ]
    }
  ]
}